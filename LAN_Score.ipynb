{
 "cells": [
  {
   "cell_type": "code",
   "execution_count": null,
   "metadata": {},
   "outputs": [],
   "source": [
    "# LAN-Score: Learning to Adapt Noise for Score-based Point Cloud Denoising\n",
    "\n",
    "这个笔记本演示了如何使用LAN（Learning to Adapt Noise）方法来增强Score-based点云去噪模型的效果。\n"
   ]
  },
  {
   "cell_type": "code",
   "execution_count": null,
   "id": "f2527533",
   "metadata": {},
   "outputs": [],
   "source": [
    "import os\n",
    "import torch\n",
    "import numpy as np\n",
    "import matplotlib.pyplot as plt\n",
    "from tqdm.auto import tqdm\n",
    "\n",
    "from utils.misc import *\n",
    "from utils.transforms import *\n",
    "from utils.denoise import *\n",
    "from models.lan_score import *\n"
   ]
  },
  {
   "cell_type": "code",
   "execution_count": null,
   "metadata": {},
   "outputs": [],
   "source": [
    "## 1. 加载预训练模型\n"
   ]
  },
  {
   "cell_type": "code",
   "execution_count": null,
   "id": "e95c5c81",
   "metadata": {},
   "outputs": [],
   "source": [
    "# 设置设备\n",
    "device = torch.device('cuda' if torch.cuda.is_available() else 'cpu')\n",
    "print(f\"使用设备: {device}\")\n",
    "\n",
    "# 加载预训练模型\n",
    "ckpt_path = './pretrained/ckpt.pt'\n",
    "ckpt = torch.load(ckpt_path, map_location=device)\n",
    "model = LANScoreNet(ckpt['args']).to(device)\n",
    "model.load_state_dict(ckpt['state_dict'], strict=False)\n",
    "model.eval()\n",
    "print(\"模型加载完成\")\n"
   ]
  },
  {
   "cell_type": "code",
   "execution_count": null,
   "metadata": {},
   "outputs": [],
   "source": [
    "## 2. 加载点云数据\n"
   ]
  },
  {
   "cell_type": "code",
   "execution_count": null,
   "id": "63e6c844",
   "metadata": {},
   "outputs": [],
   "source": [
    "# 加载点云数据\n",
    "example_dir = './data/examples/PUNet_10000_poisson_0.02'\n",
    "example_files = [f for f in os.listdir(example_dir) if f.endswith('.xyz')]\n",
    "print(f\"找到 {len(example_files)} 个点云文件\")\n",
    "\n",
    "# 选择一个点云文件\n",
    "example_file = example_files[0]\n",
    "pcl_noisy = torch.FloatTensor(np.loadtxt(os.path.join(example_dir, example_file)))\n",
    "pcl_noisy, center, scale = NormalizeUnitSphere.normalize(pcl_noisy)\n",
    "pcl_noisy = pcl_noisy.to(device)\n",
    "print(f\"点云形状: {pcl_noisy.shape}\")\n"
   ]
  },
  {
   "cell_type": "code",
   "execution_count": null,
   "metadata": {},
   "outputs": [],
   "source": [
    "## 3. 使用传统Score-based方法去噪\n"
   ]
  },
  {
   "cell_type": "code",
   "execution_count": null,
   "id": "9590b180",
   "metadata": {},
   "outputs": [],
   "source": [
    "# 使用传统Score-based方法去噪\n",
    "with torch.no_grad():\n",
    "    pcl_denoised_orig = patch_based_denoise(\n",
    "        model=model,\n",
    "        pcl_noisy=pcl_noisy,\n",
    "        ld_step_size=0.2,\n",
    "        ld_num_steps=30,\n",
    "        step_decay=0.95,\n",
    "        seed_k=3,\n",
    "        denoise_knn=4\n",
    "    )\n",
    "print(\"传统Score-based去噪完成\")\n"
   ]
  },
  {
   "cell_type": "code",
   "execution_count": null,
   "metadata": {},
   "outputs": [],
   "source": [
    "## 4. 使用LAN方法去噪\n"
   ]
  },
  {
   "cell_type": "code",
   "execution_count": null,
   "id": "088a5c53",
   "metadata": {},
   "outputs": [],
   "source": [
    "# 创建LAN模块\n",
    "lan = LAN(pcl_noisy.unsqueeze(0).shape).to(device)\n",
    "optimizer = torch.optim.Adam(lan.parameters(), lr=1e-4)\n",
    "\n",
    "# 选择自监督损失函数\n",
    "loss_func = zsn2n_loss_func  # 或者使用 nbr2nbr_loss_func\n",
    "\n",
    "# 优化LAN参数\n",
    "inner_loop = 20\n",
    "loss_values = []\n",
    "print(\"开始优化LAN参数...\")\n",
    "for i in tqdm(range(inner_loop)):\n",
    "    optimizer.zero_grad()\n",
    "    loss = loss_func(pcl_noisy.unsqueeze(0), model, lan)\n",
    "    loss.backward()\n",
    "    optimizer.step()\n",
    "    loss_values.append(loss.item())\n",
    "print(\"LAN参数优化完成\")\n",
    "\n",
    "# 绘制损失曲线\n",
    "plt.figure(figsize=(10, 5))\n",
    "plt.plot(loss_values)\n",
    "plt.title('LAN优化损失曲线')\n",
    "plt.xlabel('迭代次数')\n",
    "plt.ylabel('损失')\n",
    "plt.grid(True)\n",
    "plt.show()\n"
   ]
  },
  {
   "cell_type": "code",
   "execution_count": null,
   "id": "70a4f0a5",
   "metadata": {},
   "outputs": [],
   "source": [
    "# 使用LAN方法去噪\n",
    "with torch.no_grad():\n",
    "    # 查看LAN适应后的点云\n",
    "    pcl_adapted = lan(pcl_noisy.unsqueeze(0))[0]\n",
    "    \n",
    "    # 使用LAN进行去噪\n",
    "    pcl_denoised_lan = patch_based_denoise(\n",
    "        model=model,\n",
    "        pcl_noisy=pcl_noisy,\n",
    "        ld_step_size=0.2,\n",
    "        ld_num_steps=30,\n",
    "        step_decay=0.95,\n",
    "        seed_k=3,\n",
    "        denoise_knn=4,\n",
    "        lan=lan\n",
    "    )\n",
    "print(\"LAN方法去噪完成\")\n"
   ]
  },
  {
   "cell_type": "code",
   "execution_count": null,
   "metadata": {},
   "outputs": [],
   "source": [
    "## 5. 比较结果\n"
   ]
  },
  {
   "cell_type": "code",
   "execution_count": null,
   "id": "712e47f0",
   "metadata": {},
   "outputs": [],
   "source": [
    "# 计算Chamfer距离\n",
    "from models.utils import chamfer_distance_unit_sphere\n",
    "\n",
    "# 加载干净的点云（如果有）\n",
    "clean_dir = './data/PUNet/test/10000_poisson'\n",
    "clean_file = example_file.replace('_noisy', '')\n",
    "if os.path.exists(os.path.join(clean_dir, clean_file)):\n",
    "    pcl_clean = torch.FloatTensor(np.loadtxt(os.path.join(clean_dir, clean_file)))\n",
    "    pcl_clean, _, _ = NormalizeUnitSphere.normalize(pcl_clean)\n",
    "    pcl_clean = pcl_clean.to(device)\n",
    "    \n",
    "    # 计算Chamfer距离\n",
    "    cd_orig = chamfer_distance_unit_sphere(pcl_denoised_orig.unsqueeze(0), pcl_clean.unsqueeze(0))[0].item()\n",
    "    cd_lan = chamfer_distance_unit_sphere(pcl_denoised_lan.unsqueeze(0), pcl_clean.unsqueeze(0))[0].item()\n",
    "    \n",
    "    print(f\"原始Score-based方法的Chamfer距离: {cd_orig:.6f}\")\n",
    "    print(f\"LAN方法的Chamfer距离: {cd_lan:.6f}\")\n",
    "    print(f\"改进: {cd_orig - cd_lan:.6f} ({(cd_orig - cd_lan) / cd_orig * 100:.2f}%)\")\n"
   ]
  },
  {
   "cell_type": "code",
   "execution_count": null,
   "metadata": {},
   "outputs": [],
   "source": [
    "## 6. 保存结果\n"
   ]
  },
  {
   "cell_type": "code",
   "execution_count": null,
   "id": "78abc4db",
   "metadata": {},
   "outputs": [],
   "source": [
    "# 保存结果\n",
    "output_dir = './results'\n",
    "os.makedirs(output_dir, exist_ok=True)\n",
    "\n",
    "# 反归一化\n",
    "pcl_noisy_denorm = pcl_noisy.cpu() * scale + center\n",
    "pcl_adapted_denorm = pcl_adapted.cpu() * scale + center\n",
    "pcl_denoised_orig_denorm = pcl_denoised_orig.cpu() * scale + center\n",
    "pcl_denoised_lan_denorm = pcl_denoised_lan.cpu() * scale + center\n",
    "\n",
    "# 保存点云\n",
    "np.savetxt(os.path.join(output_dir, 'noisy.xyz'), pcl_noisy_denorm.numpy(), fmt='%.8f')\n",
    "np.savetxt(os.path.join(output_dir, 'adapted.xyz'), pcl_adapted_denorm.numpy(), fmt='%.8f')\n",
    "np.savetxt(os.path.join(output_dir, 'denoised_orig.xyz'), pcl_denoised_orig_denorm.numpy(), fmt='%.8f')\n",
    "np.savetxt(os.path.join(output_dir, 'denoised_lan.xyz'), pcl_denoised_lan_denorm.numpy(), fmt='%.8f')\n",
    "\n",
    "print(f\"结果已保存到 {output_dir} 目录\")\n"
   ]
  },
  {
   "cell_type": "code",
   "execution_count": null,
   "metadata": {},
   "outputs": [],
   "source": [
    "## 7. 可视化比较（需要额外的可视化库）\n"
   ]
  },
  {
   "cell_type": "code",
   "execution_count": null,
   "id": "bc4378aa",
   "metadata": {},
   "outputs": [],
   "source": [
    "# 尝试使用Open3D进行可视化\n",
    "try:\n",
    "    import open3d as o3d\n",
    "    \n",
    "    def visualize_point_cloud(points, color=[0.5, 0.5, 0.5]):\n",
    "        pcd = o3d.geometry.PointCloud()\n",
    "        pcd.points = o3d.utility.Vector3dVector(points)\n",
    "        pcd.paint_uniform_color(color)\n",
    "        return pcd\n",
    "    \n",
    "    # 创建点云对象\n",
    "    pcd_noisy = visualize_point_cloud(pcl_noisy_denorm.numpy(), [1, 0, 0])  # 红色\n",
    "    pcd_adapted = visualize_point_cloud(pcl_adapted_denorm.numpy(), [0, 1, 0])  # 绿色\n",
    "    pcd_denoised_orig = visualize_point_cloud(pcl_denoised_orig_denorm.numpy(), [0, 0, 1])  # 蓝色\n",
    "    pcd_denoised_lan = visualize_point_cloud(pcl_denoised_lan_denorm.numpy(), [1, 1, 0])  # 黄色\n",
    "    \n",
    "    # 可视化\n",
    "    print(\"红色: 噪声点云\")\n",
    "    o3d.visualization.draw_geometries([pcd_noisy])\n",
    "    \n",
    "    print(\"绿色: LAN适应后的点云\")\n",
    "    o3d.visualization.draw_geometries([pcd_adapted])\n",
    "    \n",
    "    print(\"蓝色: 原始Score-based方法去噪结果\")\n",
    "    o3d.visualization.draw_geometries([pcd_denoised_orig])\n",
    "    \n",
    "    print(\"黄色: LAN方法去噪结果\")\n",
    "    o3d.visualization.draw_geometries([pcd_denoised_lan])\n",
    "    \n",
    "    print(\"比较原始方法(蓝色)和LAN方法(黄色)\")\n",
    "    o3d.visualization.draw_geometries([pcd_denoised_orig, pcd_denoised_lan])\n",
    "    \n",
    "except ImportError:\n",
    "    print(\"未安装Open3D库，无法进行可视化。可以使用其他工具查看保存的点云文件。\")\n"
   ]
  },
  {
   "cell_type": "code",
   "execution_count": null,
   "id": "initial_id",
   "metadata": {
    "collapsed": true
   },
   "outputs": [],
   "source": []
  }
 ],
 "metadata": {
  "kernelspec": {
   "display_name": "Python 3",
   "language": "python",
   "name": "python3"
  },
  "language_info": {
   "codemirror_mode": {
    "name": "ipython",
    "version": 2
   },
   "file_extension": ".py",
   "mimetype": "text/x-python",
   "name": "python",
   "nbconvert_exporter": "python",
   "pygments_lexer": "ipython2",
   "version": "2.7.6"
  }
 },
 "nbformat": 4,
 "nbformat_minor": 5
}
